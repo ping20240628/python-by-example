{
 "cells": [
  {
   "cell_type": "code",
   "execution_count": null,
   "id": "b49b689b-e42b-4e02-9769-e4f4d5219e75",
   "metadata": {},
   "outputs": [],
   "source": [
    "# suport comprehensions\n",
    "# list, dict, set, tuple\n",
    "# \n",
    "# [out_exp_res for out_exp in input_list]\n",
    "# [out_exp_res for out_exp in input_list if condition]"
   ]
  },
  {
   "cell_type": "code",
   "execution_count": 1,
   "id": "67a24fa9-f87e-48bf-b1d8-9a0a51c4d0c7",
   "metadata": {},
   "outputs": [
    {
     "name": "stdout",
     "output_type": "stream",
     "text": [
      "['ALICE', 'JERRY', 'WENDY', 'SMITH']\n"
     ]
    }
   ],
   "source": [
    "names = ['Bob','Tom','alice','Jerry','Wendy','Smith']\n",
    "new_names = [name.upper() for name in names if len(name) > 3]\n",
    "print(new_names)"
   ]
  },
  {
   "cell_type": "code",
   "execution_count": 2,
   "id": "5887d13f-57a2-42bb-88e2-e8153573301d",
   "metadata": {},
   "outputs": [
    {
     "name": "stdout",
     "output_type": "stream",
     "text": [
      "[0, 3, 6, 9, 12, 15, 18, 21, 24, 27]\n"
     ]
    }
   ],
   "source": [
    "nultiples = [i for i in range(30) if i % 3 == 0]\n",
    "print(nultiples)"
   ]
  },
  {
   "cell_type": "code",
   "execution_count": 4,
   "id": "6aaeef7f-06e3-49eb-b9a6-4fc0582cd78b",
   "metadata": {},
   "outputs": [
    {
     "name": "stdout",
     "output_type": "stream",
     "text": [
      "{'Google': 6, 'Runoob': 6, 'Taobao': 6}\n",
      "{2: 4, 4: 16, 6: 36}\n"
     ]
    }
   ],
   "source": [
    "# dict\n",
    "# [key_expr: value_expr for value in collection]\n",
    "# [key_expr: value_expr for value in collection if condition]\n",
    "listdemo = ['Google', 'Runoob', 'Taobao']\n",
    "newdict = {key:len(key) for key in listdemo}\n",
    "print(newdict)\n",
    "\n",
    "dic = {x: x**2 for x in (2,4,6)}\n",
    "print(dic)"
   ]
  },
  {
   "cell_type": "code",
   "execution_count": 6,
   "id": "2c93c0b9-2863-4d47-b7cb-c64d69c107f2",
   "metadata": {},
   "outputs": [
    {
     "name": "stdout",
     "output_type": "stream",
     "text": [
      "{1, 4, 9}\n",
      "{'r', 'd'}\n"
     ]
    }
   ],
   "source": [
    "# set\n",
    "# {expression for in sequence}\n",
    "# {expression for item in sequence if conditional}\n",
    "setnew = {i**2 for i in (1,2,3)}\n",
    "print(setnew)\n",
    "\n",
    "a = {x for x in 'abracadabra' if x not in 'abc'}\n",
    "print(a)"
   ]
  },
  {
   "cell_type": "code",
   "execution_count": 8,
   "id": "18b6c684-4f30-4d82-a06b-8f223b3a2309",
   "metadata": {},
   "outputs": [
    {
     "name": "stdout",
     "output_type": "stream",
     "text": [
      "<generator object <genexpr> at 0x10884a9e0>\n",
      "(1, 2, 3, 4, 5, 6, 7, 8, 9)\n"
     ]
    }
   ],
   "source": [
    "# tuple\n",
    "# (expression for item in sequence)\n",
    "# (expression for item in sequence if conditional)\n",
    "a = (x for x in range(1,10))\n",
    "print(a)\n",
    "print(tuple(a))"
   ]
  }
 ],
 "metadata": {
  "kernelspec": {
   "display_name": "Python 3 (ipykernel)",
   "language": "python",
   "name": "python3"
  },
  "language_info": {
   "codemirror_mode": {
    "name": "ipython",
    "version": 3
   },
   "file_extension": ".py",
   "mimetype": "text/x-python",
   "name": "python",
   "nbconvert_exporter": "python",
   "pygments_lexer": "ipython3",
   "version": "3.9.6"
  }
 },
 "nbformat": 4,
 "nbformat_minor": 5
}
