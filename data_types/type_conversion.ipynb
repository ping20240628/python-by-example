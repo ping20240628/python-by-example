{
 "cells": [
  {
   "cell_type": "code",
   "execution_count": 1,
   "id": "dd81e46d-3f1d-4a8c-abbd-d6f5234f2f95",
   "metadata": {},
   "outputs": [
    {
     "name": "stdout",
     "output_type": "stream",
     "text": [
      "num_int data type: <class 'int'>\n",
      "num_flo data type: <class 'float'>\n",
      "num_new value: 124.23\n",
      "num_new data type: <class 'int'>\n"
     ]
    }
   ],
   "source": [
    "num_int = 123\n",
    "num_flo = 1.23\n",
    "\n",
    "num_new = num_int + num_flo\n",
    "\n",
    "print(\"num_int data type:\", type(num_int))\n",
    "print(\"num_flo data type:\", type(num_flo))\n",
    "\n",
    "print(\"num_new value:\", num_new)\n",
    "print(\"num_new data type:\", type(num_int))"
   ]
  },
  {
   "cell_type": "code",
   "execution_count": 2,
   "id": "76a607d4-a673-4f73-aa1e-e358b5b58462",
   "metadata": {},
   "outputs": [
    {
     "name": "stdout",
     "output_type": "stream",
     "text": [
      "num_int data type: <class 'int'>\n",
      "num_str data type: <class 'str'>\n"
     ]
    },
    {
     "ename": "TypeError",
     "evalue": "unsupported operand type(s) for +: 'int' and 'str'",
     "output_type": "error",
     "traceback": [
      "\u001b[0;31m---------------------------------------------------------------------------\u001b[0m",
      "\u001b[0;31mTypeError\u001b[0m                                 Traceback (most recent call last)",
      "Cell \u001b[0;32mIn[2], line 7\u001b[0m\n\u001b[1;32m      4\u001b[0m \u001b[38;5;28mprint\u001b[39m(\u001b[38;5;124m'\u001b[39m\u001b[38;5;124mnum_int data type:\u001b[39m\u001b[38;5;124m'\u001b[39m, \u001b[38;5;28mtype\u001b[39m(num_int))\n\u001b[1;32m      5\u001b[0m \u001b[38;5;28mprint\u001b[39m(\u001b[38;5;124m'\u001b[39m\u001b[38;5;124mnum_str data type:\u001b[39m\u001b[38;5;124m'\u001b[39m, \u001b[38;5;28mtype\u001b[39m(num_str))\n\u001b[0;32m----> 7\u001b[0m \u001b[38;5;28mprint\u001b[39m(\u001b[43mnum_int\u001b[49m\u001b[43m \u001b[49m\u001b[38;5;241;43m+\u001b[39;49m\u001b[43m \u001b[49m\u001b[43mnum_str\u001b[49m)\n",
      "\u001b[0;31mTypeError\u001b[0m: unsupported operand type(s) for +: 'int' and 'str'"
     ]
    }
   ],
   "source": [
    "num_int = 123\n",
    "num_str = '456'\n",
    "\n",
    "print('num_int data type:', type(num_int))\n",
    "print('num_str data type:', type(num_str))\n",
    "\n",
    "print(num_int + num_str) # unsupported operand type(s) for +: 'int' and 'str'"
   ]
  },
  {
   "cell_type": "code",
   "execution_count": 3,
   "id": "8ef96d70-a8da-46f5-8251-f55176f4ab9b",
   "metadata": {},
   "outputs": [],
   "source": [
    "x = int(1)\n",
    "y = int(2.8)\n",
    "z = int(\"3\")\n",
    "\n",
    "x = str(\"s1\")\n",
    "y = str(2)\n",
    "z = str(3.0)"
   ]
  },
  {
   "cell_type": "code",
   "execution_count": 6,
   "id": "3cc01bd9-6401-41f7-a753-9748acb3e982",
   "metadata": {},
   "outputs": [
    {
     "name": "stdout",
     "output_type": "stream",
     "text": [
      "sum : 579\n"
     ]
    }
   ],
   "source": [
    "num_int = 123\n",
    "num_str = \"456\"\n",
    "\n",
    "num_sum = num_int + int(num_str)\n",
    "print(\"sum :\", num_sum)"
   ]
  },
  {
   "cell_type": "code",
   "execution_count": null,
   "id": "c6866acc-0dc4-46bb-aada-90f5a1ebc6d3",
   "metadata": {},
   "outputs": [],
   "source": []
  }
 ],
 "metadata": {
  "kernelspec": {
   "display_name": "Python 3 (ipykernel)",
   "language": "python",
   "name": "python3"
  },
  "language_info": {
   "codemirror_mode": {
    "name": "ipython",
    "version": 3
   },
   "file_extension": ".py",
   "mimetype": "text/x-python",
   "name": "python",
   "nbconvert_exporter": "python",
   "pygments_lexer": "ipython3",
   "version": "3.9.6"
  }
 },
 "nbformat": 4,
 "nbformat_minor": 5
}
