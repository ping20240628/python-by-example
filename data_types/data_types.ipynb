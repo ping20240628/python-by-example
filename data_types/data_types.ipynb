{
 "cells": [
  {
   "cell_type": "code",
   "execution_count": 1,
   "id": "d4fc0b3d-98ed-4e31-84bf-7dcf2cc8a24e",
   "metadata": {},
   "outputs": [
    {
     "name": "stdout",
     "output_type": "stream",
     "text": [
      "['abcd', 786, 2.23, 'runoob', 70.2]\n",
      "abcd\n",
      "[786, 2.23]\n",
      "[2.23, 'runoob', 70.2]\n",
      "[123, 'runoob', 123, 'runoob']\n",
      "['abcd', 786, 2.23, 'runoob', 70.2, 123, 'runoob']\n"
     ]
    }
   ],
   "source": [
    "list = ['abcd', 786, 2.23, 'runoob', 70.2]\n",
    "tinylist = [123, 'runoob']\n",
    "\n",
    "print(list)\n",
    "print(list[0])\n",
    "print(list[1:3])\n",
    "print(list[2:])\n",
    "print(tinylist * 2)\n",
    "print(list + tinylist)"
   ]
  },
  {
   "cell_type": "code",
   "execution_count": 2,
   "id": "1914ff4b-90e2-459c-ad90-21296f7c0beb",
   "metadata": {},
   "outputs": [
    {
     "name": "stdout",
     "output_type": "stream",
     "text": [
      "[9, 2, 3, 4, 5, 6]\n",
      "[9, 2, 13, 14, 15, 6]\n",
      "[9, 2, 6]\n"
     ]
    }
   ],
   "source": [
    "a = [1,2,3,4,5,6]\n",
    "a[0] = 9\n",
    "print(a)\n",
    "\n",
    "a[2:5] = [13, 14, 15]\n",
    "print(a)\n",
    "\n",
    "a[2:5] = []\n",
    "print(a)"
   ]
  },
  {
   "cell_type": "code",
   "execution_count": 6,
   "id": "75b288ad-710d-4e53-8609-23f8979a32a3",
   "metadata": {},
   "outputs": [
    {
     "name": "stdout",
     "output_type": "stream",
     "text": [
      "runoob like I\n"
     ]
    }
   ],
   "source": [
    "def reverseWords(input):\n",
    "    inputWords = input.split(\" \")\n",
    "    inputWords = inputWords[-1::-1]\n",
    "\n",
    "    output = ' '.join(inputWords)\n",
    "    return output\n",
    "\n",
    "input = 'I like runoob'\n",
    "rw = reverseWords(input)\n",
    "print(rw)"
   ]
  },
  {
   "cell_type": "code",
   "execution_count": 7,
   "id": "ba75025b-9cad-4605-8046-d3f1b84f91c8",
   "metadata": {},
   "outputs": [
    {
     "name": "stdout",
     "output_type": "stream",
     "text": [
      "('abcd', 786, 2.23, 'runoob', 70.2)\n",
      "abcd\n",
      "(786, 2.23)\n",
      "(2.23, 'runoob', 70.2)\n",
      "(123, 'runoob', 123, 'runoob')\n",
      "('abcd', 786, 2.23, 'runoob', 70.2, 123, 'runoob')\n"
     ]
    }
   ],
   "source": [
    "# Tuple\n",
    "tuple = ('abcd', 786, 2.23, 'runoob', 70.2)\n",
    "tinytuple = (123, 'runoob')\n",
    "\n",
    "print(tuple)\n",
    "print(tuple[0])\n",
    "print(tuple[1:3])\n",
    "print(tuple[2:])\n",
    "print(tinytuple * 2)\n",
    "print(tuple + tinytuple)"
   ]
  },
  {
   "cell_type": "code",
   "execution_count": 8,
   "id": "4e43ad26-e50f-42a6-9c5d-245ecebd4830",
   "metadata": {},
   "outputs": [
    {
     "name": "stdout",
     "output_type": "stream",
     "text": [
      "1\n",
      "(2, 3, 4, 5)\n"
     ]
    },
    {
     "ename": "TypeError",
     "evalue": "'tuple' object does not support item assignment",
     "output_type": "error",
     "traceback": [
      "\u001b[0;31m---------------------------------------------------------------------------\u001b[0m",
      "\u001b[0;31mTypeError\u001b[0m                                 Traceback (most recent call last)",
      "Cell \u001b[0;32mIn[8], line 5\u001b[0m\n\u001b[1;32m      2\u001b[0m \u001b[38;5;28mprint\u001b[39m(tup[\u001b[38;5;241m0\u001b[39m])\n\u001b[1;32m      4\u001b[0m \u001b[38;5;28mprint\u001b[39m(tup[\u001b[38;5;241m1\u001b[39m:\u001b[38;5;241m5\u001b[39m])\n\u001b[0;32m----> 5\u001b[0m \u001b[43mtup\u001b[49m\u001b[43m[\u001b[49m\u001b[38;5;241;43m0\u001b[39;49m\u001b[43m]\u001b[49m \u001b[38;5;241m=\u001b[39m \u001b[38;5;241m11\u001b[39m\n",
      "\u001b[0;31mTypeError\u001b[0m: 'tuple' object does not support item assignment"
     ]
    }
   ],
   "source": [
    "tup = (1,2,3,4,5,6)\n",
    "print(tup[0])\n",
    "\n",
    "print(tup[1:5])\n",
    "tup[0] = 11 # TypeError: 'tuple' object does not support item assignment"
   ]
  },
  {
   "cell_type": "code",
   "execution_count": 9,
   "id": "cb0ad3ec-72f0-4dc6-b419-86511a98087d",
   "metadata": {},
   "outputs": [
    {
     "name": "stdout",
     "output_type": "stream",
     "text": [
      "<class 'tuple'> <class 'tuple'> <class 'int'>\n"
     ]
    }
   ],
   "source": [
    "tup1 = ()\n",
    "tup2 = (20,)\n",
    "not_a_tuple = (42)\n",
    "\n",
    "print(type(tup1), type(tup2), type(not_a_tuple))"
   ]
  },
  {
   "cell_type": "code",
   "execution_count": 10,
   "id": "39cf6906-06b2-467b-89b0-ca80d0571638",
   "metadata": {},
   "outputs": [
    {
     "name": "stdout",
     "output_type": "stream",
     "text": [
      "{'Baidu', 'Zhihu', 'Runoob', 'Taobao', 'Facebook', 'Google'}\n",
      "Runoob is in set\n",
      "{'c', 'a', 'd', 'r', 'b'}\n",
      "{'r', 'd', 'b'}\n",
      "{'c', 'l', 'a', 'd', 'z', 'r', 'm', 'b'}\n",
      "{'c', 'a'}\n",
      "{'l', 'd', 'r', 'z', 'm', 'b'}\n"
     ]
    }
   ],
   "source": [
    "# Set\n",
    "sites = {'Google', 'Taobao', 'Runoob', 'Facebook', 'Zhihu', 'Baidu'}\n",
    "print(sites)\n",
    "\n",
    "if 'Runoob' in sites:\n",
    "    print('Runoob is in set')\n",
    "else:\n",
    "    print('Runoob is not in set')\n",
    "\n",
    "# set可以进行集合运算\n",
    "a = set('abracadabra')\n",
    "b = set('alacazam')\n",
    "\n",
    "print(a)\n",
    "\n",
    "print(a - b)     # a 和 b 的差集\n",
    "print(a | b)     # a 和 b 的并集\n",
    "print(a & b)     # a 和 b 的交集\n",
    "print(a ^ b)     # a 和 b 中不同时存在的元素"
   ]
  },
  {
   "cell_type": "code",
   "execution_count": 11,
   "id": "9e4889e8-1ad3-4ab5-a1de-9b436c9c4dfa",
   "metadata": {},
   "outputs": [
    {
     "name": "stdout",
     "output_type": "stream",
     "text": [
      "1\n",
      "two\n",
      "{'name': 'runoob', 'code': 1, 'site': 'xxx'}\n",
      "dict_keys(['name', 'code', 'site'])\n",
      "dict_values(['runoob', 1, 'xxx'])\n"
     ]
    }
   ],
   "source": [
    "dict = {}\n",
    "dict['one'] = \"1\"\n",
    "dict[2] = \"two\"\n",
    "\n",
    "tinydict = {'name': 'runoob','code':1, 'site': 'xxx'}\n",
    "\n",
    "print(dict['one'])\n",
    "print(dict[2])\n",
    "print(tinydict)\n",
    "print(tinydict.keys())\n",
    "print(tinydict.values())"
   ]
  },
  {
   "cell_type": "code",
   "execution_count": 13,
   "id": "126cc393-447d-424b-a360-3da0c2f8207c",
   "metadata": {},
   "outputs": [
    {
     "name": "stdout",
     "output_type": "stream",
     "text": [
      "b'hello'\n",
      "b'el'\n",
      "b'hello world'\n"
     ]
    }
   ],
   "source": [
    "x = bytes(\"hello\", encoding=\"utf-8\")\n",
    "print(x)\n",
    "\n",
    "x = b\"hello\"\n",
    "y = x[1:3]\n",
    "print(y)\n",
    "z = x + b\" world\"\n",
    "print(z)"
   ]
  },
  {
   "cell_type": "code",
   "execution_count": 15,
   "id": "7abebfe5-8d7b-45d6-b5e1-f71ef6955ab7",
   "metadata": {},
   "outputs": [
    {
     "name": "stdout",
     "output_type": "stream",
     "text": [
      "The first element is 'h'\n"
     ]
    }
   ],
   "source": [
    "x = b\"hello\"\n",
    "if x[0] == ord(\"h\"):\n",
    "    print(\"The first element is 'h'\")"
   ]
  },
  {
   "cell_type": "code",
   "execution_count": null,
   "id": "17e74bd7-5f8c-4028-b367-07ae39ba4207",
   "metadata": {},
   "outputs": [],
   "source": []
  }
 ],
 "metadata": {
  "kernelspec": {
   "display_name": "Python 3 (ipykernel)",
   "language": "python",
   "name": "python3"
  },
  "language_info": {
   "codemirror_mode": {
    "name": "ipython",
    "version": 3
   },
   "file_extension": ".py",
   "mimetype": "text/x-python",
   "name": "python",
   "nbconvert_exporter": "python",
   "pygments_lexer": "ipython3",
   "version": "3.9.6"
  }
 },
 "nbformat": 4,
 "nbformat_minor": 5
}
